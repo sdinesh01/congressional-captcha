{
 "cells": [
  {
   "cell_type": "code",
   "execution_count": 303,
   "id": "1e026bde-af46-4d38-a00b-634fa430498a",
   "metadata": {},
   "outputs": [],
   "source": [
    "from legiscan import LegiScan\n",
    "import legiscan\n",
    "#import fetch_data\n",
    "import os\n",
    "import pandas as pd\n",
    "import swifter\n",
    "import zipfile\n",
    "import base64\n",
    "import io\n",
    "import glob\n",
    "import time\n",
    "import json\n",
    "import requests\n",
    "import mimetypes\n",
    "import tqdm \n",
    "from collections import defaultdict\n",
    "\n",
    "from importlib import reload\n",
    "reload(legiscan);\n",
    "#reload(fetch_data);"
   ]
  },
  {
   "cell_type": "code",
   "execution_count": 304,
   "id": "c2d300b1-404a-43b4-a746-df5dffa6e48d",
   "metadata": {},
   "outputs": [],
   "source": [
    "class FetchData: \n",
    "    '''\n",
    "    This class produces a csv with Legiscan data\n",
    "    '''\n",
    "    \n",
    "    def __init__(self, \n",
    "                 api_key = os.environ.get('LEGISCAN_API_KEY'), \n",
    "                 num_datasets = 20, \n",
    "                 PATH_OUT = './sample-data' \n",
    "                 ): \n",
    "        self.__api_key = api_key\n",
    "        self.legis = LegiScan(self.__api_key)\n",
    "        self.num_datasets = num_datasets\n",
    "        self.PATH_OUT = PATH_OUT\n",
    "        self.check_directories()\n",
    "        self.create_test_dataset_list()\n",
    "        self.decode_test_dataset()\n",
    "        self.find_json()\n",
    "        self.process_json()\n",
    "        self.create_dataframe()\n",
    "        self.df_to_csv()\n",
    "        \n",
    "        \n",
    "    def check_directories(self): \n",
    "        if not os.path.exists(self.PATH_OUT): \n",
    "            os.mkdir(self.PATH_OUT)\n",
    "        return\n",
    "        \n",
    "    def create_test_dataset_list(self): \n",
    "        self.datasets = self.legis.get_dataset_list()\n",
    "        self.dataset = self.legis.get_dataset(self.datasets[self.num_datasets]['session_id'], self.datasets[self.num_datasets]['access_key'])\n",
    "        return \n",
    "    \n",
    "    def decode_test_dataset(self): \n",
    "        #dataset = self.create_test_dataset_list()\n",
    "        self.z_bytes = base64.b64decode(self.dataset['zip'])\n",
    "        self.zip = zipfile.ZipFile(io.BytesIO(self.z_bytes))\n",
    "        \n",
    "        # extract all files in the zip file\n",
    "        self.zip.extractall(self.PATH_OUT)\n",
    "        return\n",
    "    \n",
    "    def find_json(self): \n",
    "        self.filenames = glob.glob('./sample-data/' + \"/*/*/bill/*.json\", recursive = True)\n",
    "        return \n",
    "         \n",
    "    def process_json(self): \n",
    "        self.all_bill_data = {}\n",
    "        for filename in self.filenames:\n",
    "            with open(filename) as file:\n",
    "                self.bill_data = {}\n",
    "                # We need to do a little string replacing so the \n",
    "                self.json_str = file.read().replace('\"0000-00-00\"', 'null')\n",
    "                self.content = json.loads(self.json_str)['bill']\n",
    "\n",
    "                self.bill_data['bill_id'] = self.content['bill_id']\n",
    "                self.bill_data['bill_number'] = self.content['bill_number']\n",
    "                self.bill_data['title'] = self.content['title']\n",
    "                self.bill_data['description'] = self.content['description']\n",
    "                self.bill_data['state'] = self.content['state']\n",
    "                self.bill_data['session'] = self.content['session']['session_name']\n",
    "                self.bill_data['filename'] = filename\n",
    "                self.bill_data['status'] = self.content['status']\n",
    "                self.bill_data['status_date'] = self.content['status_date']\n",
    "\n",
    "                try:\n",
    "                    self.bill_data['url'] = self.content['texts'][-1]['state_link']\n",
    "                except:\n",
    "                    pass\n",
    "        \n",
    "            self.all_bill_data[filename] = self.bill_data\n",
    "            print(self.all_bill_data)\n",
    "        return\n",
    "            \n",
    "    def create_dataframe(self):\n",
    "        self.data_for_dataframe = defaultdict(dict)\n",
    "        for i in self.all_bill_data:\n",
    "            self.data_for_dataframe[d[i][1]].append(i)\n",
    "        #self.data_for_dataframe = {key:value for _ in self.all_bill_data.values() }\n",
    "        #self.df = pd.DataFrame.from_dict(self.all_bill_data.keys())\n",
    "        return \n",
    "\n",
    "    def df_to_csv(self): \n",
    "        self.data_for_dataframe.to_csv('./sample-data/' + '/bills-with-urls.csv', index=False)\n",
    "        return \n",
    "\n",
    "    def get_test_datasets(self): \n",
    "        return self.datasets.copy()\n",
    "    \n",
    "    def get_json_filenames(self): \n",
    "        return self.filenames\n",
    "    \n",
    "    def get_dataframe(self): \n",
    "        return self.data_for_dataframe\n",
    "    "
   ]
  },
  {
   "cell_type": "code",
   "execution_count": 305,
   "id": "ae7836e4-a121-46de-aba4-77383ded5172",
   "metadata": {
    "tags": []
   },
   "outputs": [
    {
     "ename": "LegiScanError",
     "evalue": "API has been administratively locked by LegiScan, please contact api@legiscan.com",
     "output_type": "error",
     "traceback": [
      "\u001b[1;31m---------------------------------------------------------------------------\u001b[0m",
      "\u001b[1;31mLegiScanError\u001b[0m                             Traceback (most recent call last)",
      "Cell \u001b[1;32mIn[305], line 1\u001b[0m\n\u001b[1;32m----> 1\u001b[0m fd \u001b[38;5;241m=\u001b[39m \u001b[43mFetchData\u001b[49m\u001b[43m(\u001b[49m\u001b[43m)\u001b[49m\n",
      "Cell \u001b[1;32mIn[304], line 16\u001b[0m, in \u001b[0;36mFetchData.__init__\u001b[1;34m(self, api_key, num_datasets, PATH_OUT)\u001b[0m\n\u001b[0;32m     14\u001b[0m \u001b[38;5;28mself\u001b[39m\u001b[38;5;241m.\u001b[39mPATH_OUT \u001b[38;5;241m=\u001b[39m PATH_OUT\n\u001b[0;32m     15\u001b[0m \u001b[38;5;28mself\u001b[39m\u001b[38;5;241m.\u001b[39mcheck_directories()\n\u001b[1;32m---> 16\u001b[0m \u001b[38;5;28;43mself\u001b[39;49m\u001b[38;5;241;43m.\u001b[39;49m\u001b[43mcreate_test_dataset_list\u001b[49m\u001b[43m(\u001b[49m\u001b[43m)\u001b[49m\n\u001b[0;32m     17\u001b[0m \u001b[38;5;28mself\u001b[39m\u001b[38;5;241m.\u001b[39mdecode_test_dataset()\n\u001b[0;32m     18\u001b[0m \u001b[38;5;28mself\u001b[39m\u001b[38;5;241m.\u001b[39mfind_json()\n",
      "Cell \u001b[1;32mIn[304], line 30\u001b[0m, in \u001b[0;36mFetchData.create_test_dataset_list\u001b[1;34m(self)\u001b[0m\n\u001b[0;32m     29\u001b[0m \u001b[38;5;28;01mdef\u001b[39;00m \u001b[38;5;21mcreate_test_dataset_list\u001b[39m(\u001b[38;5;28mself\u001b[39m): \n\u001b[1;32m---> 30\u001b[0m     \u001b[38;5;28mself\u001b[39m\u001b[38;5;241m.\u001b[39mdatasets \u001b[38;5;241m=\u001b[39m \u001b[38;5;28;43mself\u001b[39;49m\u001b[38;5;241;43m.\u001b[39;49m\u001b[43mlegis\u001b[49m\u001b[38;5;241;43m.\u001b[39;49m\u001b[43mget_dataset_list\u001b[49m\u001b[43m(\u001b[49m\u001b[43m)\u001b[49m\n\u001b[0;32m     31\u001b[0m     \u001b[38;5;28mself\u001b[39m\u001b[38;5;241m.\u001b[39mdataset \u001b[38;5;241m=\u001b[39m \u001b[38;5;28mself\u001b[39m\u001b[38;5;241m.\u001b[39mlegis\u001b[38;5;241m.\u001b[39mget_dataset(\u001b[38;5;28mself\u001b[39m\u001b[38;5;241m.\u001b[39mdatasets[\u001b[38;5;28mself\u001b[39m\u001b[38;5;241m.\u001b[39mnum_datasets][\u001b[38;5;124m'\u001b[39m\u001b[38;5;124msession_id\u001b[39m\u001b[38;5;124m'\u001b[39m], \u001b[38;5;28mself\u001b[39m\u001b[38;5;241m.\u001b[39mdatasets[\u001b[38;5;28mself\u001b[39m\u001b[38;5;241m.\u001b[39mnum_datasets][\u001b[38;5;124m'\u001b[39m\u001b[38;5;124maccess_key\u001b[39m\u001b[38;5;124m'\u001b[39m])\n\u001b[0;32m     32\u001b[0m     \u001b[38;5;28;01mreturn\u001b[39;00m\n",
      "File \u001b[1;32m~\\DATA440\\congressional-captcha\\legiscan.py:87\u001b[0m, in \u001b[0;36mLegiScan.get_dataset_list\u001b[1;34m(self, state, year)\u001b[0m\n\u001b[0;32m     85\u001b[0m \u001b[38;5;28;01melse\u001b[39;00m:\n\u001b[0;32m     86\u001b[0m     url \u001b[38;5;241m=\u001b[39m \u001b[38;5;28mself\u001b[39m\u001b[38;5;241m.\u001b[39m_url(\u001b[38;5;124m'\u001b[39m\u001b[38;5;124mgetDatasetList\u001b[39m\u001b[38;5;124m'\u001b[39m)\n\u001b[1;32m---> 87\u001b[0m data \u001b[38;5;241m=\u001b[39m \u001b[38;5;28;43mself\u001b[39;49m\u001b[38;5;241;43m.\u001b[39;49m\u001b[43m_get\u001b[49m\u001b[43m(\u001b[49m\u001b[43murl\u001b[49m\u001b[43m)\u001b[49m\n\u001b[0;32m     88\u001b[0m \u001b[38;5;66;03m# return a list of the bills\u001b[39;00m\n\u001b[0;32m     89\u001b[0m \u001b[38;5;28;01mreturn\u001b[39;00m data[\u001b[38;5;124m'\u001b[39m\u001b[38;5;124mdatasetlist\u001b[39m\u001b[38;5;124m'\u001b[39m]\n",
      "File \u001b[1;32m~\\DATA440\\congressional-captcha\\legiscan.py:69\u001b[0m, in \u001b[0;36mLegiScan._get\u001b[1;34m(self, url)\u001b[0m\n\u001b[0;32m     67\u001b[0m data \u001b[38;5;241m=\u001b[39m json\u001b[38;5;241m.\u001b[39mloads(req\u001b[38;5;241m.\u001b[39mcontent)\n\u001b[0;32m     68\u001b[0m \u001b[38;5;28;01mif\u001b[39;00m data[\u001b[38;5;124m'\u001b[39m\u001b[38;5;124mstatus\u001b[39m\u001b[38;5;124m'\u001b[39m] \u001b[38;5;241m==\u001b[39m \u001b[38;5;124m\"\u001b[39m\u001b[38;5;124mERROR\u001b[39m\u001b[38;5;124m\"\u001b[39m:\n\u001b[1;32m---> 69\u001b[0m     \u001b[38;5;28;01mraise\u001b[39;00m LegiScanError(data[\u001b[38;5;124m'\u001b[39m\u001b[38;5;124malert\u001b[39m\u001b[38;5;124m'\u001b[39m][\u001b[38;5;124m'\u001b[39m\u001b[38;5;124mmessage\u001b[39m\u001b[38;5;124m'\u001b[39m])\n\u001b[0;32m     70\u001b[0m \u001b[38;5;28;01mreturn\u001b[39;00m data\n",
      "\u001b[1;31mLegiScanError\u001b[0m: API has been administratively locked by LegiScan, please contact api@legiscan.com"
     ]
    }
   ],
   "source": [
    "fd = FetchData()"
   ]
  },
  {
   "cell_type": "code",
   "execution_count": 306,
   "id": "421bac42-2bb5-4f25-b58a-06748d490c8b",
   "metadata": {},
   "outputs": [
    {
     "ename": "TypeError",
     "evalue": "'dict_values' object is not subscriptable",
     "output_type": "error",
     "traceback": [
      "\u001b[1;31m---------------------------------------------------------------------------\u001b[0m",
      "\u001b[1;31mTypeError\u001b[0m                                 Traceback (most recent call last)",
      "Cell \u001b[1;32mIn[306], line 1\u001b[0m\n\u001b[1;32m----> 1\u001b[0m \u001b[43mfd\u001b[49m\u001b[38;5;241;43m.\u001b[39;49m\u001b[43mget_dataframe\u001b[49m\u001b[43m(\u001b[49m\u001b[43m)\u001b[49m\n",
      "Cell \u001b[1;32mIn[299], line 94\u001b[0m, in \u001b[0;36mFetchData.get_dataframe\u001b[1;34m(self)\u001b[0m\n\u001b[0;32m     92\u001b[0m \u001b[38;5;28mself\u001b[39m\u001b[38;5;241m.\u001b[39mnew_dict \u001b[38;5;241m=\u001b[39m {}\n\u001b[0;32m     93\u001b[0m \u001b[38;5;28;01mfor\u001b[39;00m i,x \u001b[38;5;129;01min\u001b[39;00m \u001b[38;5;28menumerate\u001b[39m(\u001b[38;5;28mself\u001b[39m\u001b[38;5;241m.\u001b[39mall_bill_data\u001b[38;5;241m.\u001b[39mvalues()):\n\u001b[1;32m---> 94\u001b[0m     \u001b[38;5;28mself\u001b[39m\u001b[38;5;241m.\u001b[39mnew_dict[\u001b[38;5;124m'\u001b[39m\u001b[38;5;124mbill_name\u001b[39m\u001b[38;5;124m'\u001b[39m] \u001b[38;5;241m=\u001b[39m \u001b[38;5;28;43mself\u001b[39;49m\u001b[38;5;241;43m.\u001b[39;49m\u001b[43mall_bill_data\u001b[49m\u001b[38;5;241;43m.\u001b[39;49m\u001b[43mvalues\u001b[49m\u001b[43m(\u001b[49m\u001b[43m)\u001b[49m\u001b[43m[\u001b[49m\u001b[43mi\u001b[49m\u001b[43m]\u001b[49m[x]\n\u001b[0;32m     95\u001b[0m \u001b[38;5;28;01mreturn\u001b[39;00m \u001b[38;5;28mself\u001b[39m\u001b[38;5;241m.\u001b[39mall_bill_data\u001b[38;5;241m.\u001b[39mitems()\n",
      "\u001b[1;31mTypeError\u001b[0m: 'dict_values' object is not subscriptable"
     ]
    }
   ],
   "source": [
    "fd.get_dataframe()"
   ]
  },
  {
   "cell_type": "code",
   "execution_count": null,
   "id": "bd0e9cb8-f933-4c54-8634-de729d97f78c",
   "metadata": {},
   "outputs": [],
   "source": []
  },
  {
   "cell_type": "code",
   "execution_count": null,
   "id": "ac16ed05-2b0c-4906-88e7-5dd832e641f2",
   "metadata": {},
   "outputs": [],
   "source": []
  }
 ],
 "metadata": {
  "kernelspec": {
   "display_name": "Python 3 (ipykernel)",
   "language": "python",
   "name": "python3"
  },
  "language_info": {
   "codemirror_mode": {
    "name": "ipython",
    "version": 3
   },
   "file_extension": ".py",
   "mimetype": "text/x-python",
   "name": "python",
   "nbconvert_exporter": "python",
   "pygments_lexer": "ipython3",
   "version": "3.9.13"
  }
 },
 "nbformat": 4,
 "nbformat_minor": 5
}
