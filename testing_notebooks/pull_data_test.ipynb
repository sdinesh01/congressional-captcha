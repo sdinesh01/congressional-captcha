{
 "cells": [
  {
   "cell_type": "code",
   "execution_count": 13,
   "id": "c1aa2c07-a922-468b-9a32-deb2e556f552",
   "metadata": {},
   "outputs": [],
   "source": [
    "from legiscan import LegiScan\n",
    "import legiscan\n",
    "\n",
    "import os\n",
    "import pandas as pd\n",
    "import swifter\n",
    "import zipfile\n",
    "import base64\n",
    "import io\n",
    "import glob\n",
    "import time\n",
    "import json\n",
    "import requests\n",
    "import mimetypes\n",
    "import tqdm \n",
    "\n",
    "# force reload of legiscan if .py file is updated\n",
    "from importlib import reload\n",
    "reload(legiscan);"
   ]
  },
  {
   "cell_type": "code",
   "execution_count": null,
   "id": "7a0748f4-b37a-42a2-ac7e-5c8c1d8b7a7d",
   "metadata": {},
   "outputs": [],
   "source": []
  },
  {
   "cell_type": "code",
   "execution_count": null,
   "id": "16e0b8a8-1237-4367-b409-c9cbdba2b501",
   "metadata": {},
   "outputs": [],
   "source": [
    "# # make sure api key is saved as an environment variable\n",
    "# for key, value in os.environ.items():\n",
    "#     if key == 'LEGISCAN_API_KEY': \n",
    "#         print(f'{key}: {value}')"
   ]
  },
  {
   "cell_type": "markdown",
   "id": "84f3942a-2027-4f50-88e0-4278ad2e1c0f",
   "metadata": {
    "tags": []
   },
   "source": [
    "### using pylegiscan to parse legiscan json -- test sample "
   ]
  },
  {
   "cell_type": "code",
   "execution_count": null,
   "id": "23aea205-3483-4414-ba7b-39578be479a7",
   "metadata": {},
   "outputs": [],
   "source": [
    "# I saved my API key as an environment variable \n",
    "# create an API key here: https://legiscan.com/legiscan\n",
    "\n",
    "api_key = os.environ.get('LEGISCAN_API_KEY')\n",
    "legis = LegiScan(api_key)"
   ]
  },
  {
   "cell_type": "code",
   "execution_count": null,
   "id": "3aa6d78e-3860-43e3-b4b7-a758d5866b3e",
   "metadata": {},
   "outputs": [],
   "source": [
    "# use LegiScan's datasets to get all of the bills for each session\n",
    "# Here, I'm just creating a sample dataset\n",
    "datasets = legis.get_dataset_list()\n",
    "dataset = legis.get_dataset(datasets[20]['session_id'], datasets[20]['access_key'])\n",
    "\n",
    "# DO NOT PRINT THE OUTPUT FOR THE FOLLOWING LINE\n",
    "#   - key 'zip' contains a base64 encoded zip file ( a very very long string that requires conversion ) \n",
    "# dataset['zip']\n",
    "len(dataset['zip'])"
   ]
  },
  {
   "cell_type": "code",
   "execution_count": null,
   "id": "e01b1391-b4de-4d23-b240-62f2f5d5718a",
   "metadata": {},
   "outputs": [],
   "source": [
    "# we need to decode the datasets into a normal file\n",
    "# using Python's zipfile module here\n",
    "z_bytes = base64.b64decode(dataset['zip'])\n",
    "\n",
    "# create an in-memory stream for bytes data (io.BytesIO()) from decoded base64,\n",
    "#     then create a zipfile object using the zipfile module to store the bytes\n",
    "z = zipfile.ZipFile(io.BytesIO(z_bytes))\n",
    "\n",
    "# extract all files in the zip file\n",
    "z.extractall(\"./sample-data\")"
   ]
  },
  {
   "cell_type": "code",
   "execution_count": null,
   "id": "76c37939-eb7a-4648-b28c-9756c1e480d0",
   "metadata": {},
   "outputs": [],
   "source": [
    "import glob # to return all file paths that match a specific pattern\n",
    "\n",
    "filenames = glob.glob(\"./sample-data/*/*/bill/*\", recursive=True)\n",
    "filenames[:2]"
   ]
  },
  {
   "cell_type": "code",
   "execution_count": null,
   "id": "c02b9ad0-34d1-44f3-9003-1eeff6c7f9c2",
   "metadata": {
    "tags": []
   },
   "outputs": [],
   "source": [
    "import json # the bill data is stored in json format, so we need to import json as well to be able to read the files\n",
    "\n",
    "json_data = json.load(open(\"./sample-data/AL/2012-2012_1st_Special_Session/bill/HB1.json\"))\n",
    "#json_data\n",
    "\n",
    "# when we look at the json_data, we can see that the actual bill text (which we need!!) is not in the json files already\n",
    "# after creating a database with the bills, we need to extract the bill text from the urls in the json"
   ]
  },
  {
   "cell_type": "markdown",
   "id": "8c278a70-4ce8-4f07-a25f-6f502a59999c",
   "metadata": {},
   "source": [
    "### download and extract final datasets"
   ]
  },
  {
   "cell_type": "code",
   "execution_count": null,
   "id": "705f6fa0-a415-498a-b843-9cd129856374",
   "metadata": {},
   "outputs": [],
   "source": [
    "# instantiate legis object \n",
    "api_key = os.environ.get('LEGISCAN_API_KEY')\n",
    "legis = LegiScan(api_key)"
   ]
  },
  {
   "cell_type": "code",
   "execution_count": null,
   "id": "1b3dd9f5-eec0-4909-8ff0-6e88a3b5ba31",
   "metadata": {},
   "outputs": [],
   "source": [
    "datasets = legis.get_dataset_list()\n",
    "len(datasets)"
   ]
  },
  {
   "cell_type": "code",
   "execution_count": null,
   "id": "3102aed4-d061-475d-90c5-6a8977b8fb87",
   "metadata": {},
   "outputs": [],
   "source": [
    "# DO NOT RERUN THIS CELL -- the bill data is already saved in a local folder\n",
    "# num_datasets = len(datasets) \n",
    "\n",
    "# for dataset in tqdm.tqdm_notebook(datasets): \n",
    "#     session_id = dataset['session_id'] #  ID corresponds to internal LegiScan legislative session numbering\n",
    "#     access_key = dataset['access_key'] #  required by the legiscan api to access getDatasetList\n",
    "    \n",
    "#     # get all of the details for a particular dataset\n",
    "#     dataset_details = legis.get_dataset(session_id, access_key)\n",
    "    \n",
    "#     # decode the dataset\n",
    "#     zipfile_bytes = base64.b64decode(dataset_details['zip'])\n",
    "#     z = zipfile.ZipFile(io.BytesIO(zipfile_bytes))\n",
    "#     z.extractall(\"./bill_data\")\n",
    "    "
   ]
  },
  {
   "cell_type": "code",
   "execution_count": 16,
   "id": "6a49cdb9-8c7e-42b2-a993-9c866c05acd5",
   "metadata": {},
   "outputs": [
    {
     "data": {
      "text/plain": [
       "1753624"
      ]
     },
     "execution_count": 16,
     "metadata": {},
     "output_type": "execute_result"
    }
   ],
   "source": [
    "filenames = glob.glob(\"bill_data/*/*/bill/*.json\")\n",
    "len(filenames)"
   ]
  },
  {
   "cell_type": "code",
   "execution_count": 17,
   "id": "60e2fe48-02f3-480d-a0cb-713ea4be0429",
   "metadata": {},
   "outputs": [],
   "source": [
    "def process_json(filename):\n",
    "    with open(filename) as file:\n",
    "        bill_data = {}\n",
    "        # We need to do a little string replacing so the \n",
    "        json_str = file.read().replace('\"0000-00-00\"', 'null')\n",
    "        content = json.loads(json_str)['bill']\n",
    "\n",
    "        bill_data['bill_id'] = content['bill_id']\n",
    "        bill_data['code'] = os.path.splitext(os.path.basename(filename))[0]\n",
    "        bill_data['bill_number'] = content['bill_number']\n",
    "        bill_data['title'] = content['title']\n",
    "        bill_data['description'] = content['description']\n",
    "        bill_data['state'] = content['state']\n",
    "        bill_data['session'] = content['session']['session_name']\n",
    "        bill_data['filename'] = filename\n",
    "        bill_data['status'] = content['status']\n",
    "        bill_data['status_date'] = content['status_date']\n",
    "\n",
    "        try:\n",
    "            bill_data['url'] = content['texts'][-1]['state_link']\n",
    "        except:\n",
    "            pass\n",
    "\n",
    "        return pd.Series(bill_data)"
   ]
  },
  {
   "cell_type": "code",
   "execution_count": null,
   "id": "9d836124-b984-477a-903c-61018f158105",
   "metadata": {},
   "outputs": [
    {
     "data": {
      "application/vnd.jupyter.widget-view+json": {
       "model_id": "0e02a3ac96a4467eb016fd313dbf5945",
       "version_major": 2,
       "version_minor": 0
      },
      "text/plain": [
       "Pandas Apply:   0%|          | 0/1753624 [00:00<?, ?it/s]"
      ]
     },
     "metadata": {},
     "output_type": "display_data"
    }
   ],
   "source": [
    "df = pd.Series(filenames).swifter.apply(process_json)\n",
    "df.head()"
   ]
  },
  {
   "cell_type": "code",
   "execution_count": null,
   "id": "6fdd67e7-82b0-48bc-806d-e06cbb7ae892",
   "metadata": {},
   "outputs": [],
   "source": []
  }
 ],
 "metadata": {
  "kernelspec": {
   "display_name": "Python 3 (ipykernel)",
   "language": "python",
   "name": "python3"
  },
  "language_info": {
   "codemirror_mode": {
    "name": "ipython",
    "version": 3
   },
   "file_extension": ".py",
   "mimetype": "text/x-python",
   "name": "python",
   "nbconvert_exporter": "python",
   "pygments_lexer": "ipython3",
   "version": "3.9.13"
  }
 },
 "nbformat": 4,
 "nbformat_minor": 5
}
