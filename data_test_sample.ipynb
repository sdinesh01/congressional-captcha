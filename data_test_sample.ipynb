{
 "cells": [
  {
   "cell_type": "code",
   "execution_count": 7,
   "id": "1e026bde-af46-4d38-a00b-634fa430498a",
   "metadata": {},
   "outputs": [],
   "source": [
    "from legiscan import LegiScan\n",
    "import legiscan\n",
    "#import fetch_data\n",
    "import os\n",
    "import pandas as pd\n",
    "import swifter\n",
    "import zipfile\n",
    "import base64\n",
    "import io\n",
    "import glob\n",
    "import time\n",
    "import json\n",
    "import requests\n",
    "import mimetypes\n",
    "import tqdm \n",
    "\n",
    "from importlib import reload\n",
    "reload(legiscan);\n",
    "#reload(fetch_data);"
   ]
  },
  {
   "cell_type": "code",
   "execution_count": 41,
   "id": "b3648074-b80a-4944-8f93-f085dcf6f378",
   "metadata": {},
   "outputs": [],
   "source": [
    "class FetchData: \n",
    "    \n",
    "    PATH_OUTPUT = './sample-data-2/'\n",
    "    \n",
    "    def __init__(self\n",
    "                 ): \n",
    "        self.api_key = os.environ.get('LEGISCAN_API_KEY')\n",
    "        self.legis = LegiScan(self.api_key)\n",
    "        self.__test_dataset__()\n",
    "        self.find_json()\n",
    "        self.process_json()\n",
    "        self.create_dataframe()\n",
    "       # self.df_to_csv()\n",
    "        \n",
    "        \n",
    "    def check_directories(self): \n",
    "        if not os.path.exists(self.PATH_OUTPUT): \n",
    "            os.mkdir(self.PATH_OUTPUT)\n",
    "        return\n",
    "    \n",
    "        \n",
    "    def __test_dataset__(self): \n",
    "        self.__datasets = self.legis.get_dataset_list()\n",
    "        self.__dataset = self.legis.get_dataset(self.__datasets[20]['session_id'], self.__datasets[20]['access_key'])\n",
    "        return \n",
    "        \n",
    "    def get_test_dataset(self): \n",
    "        return self.__dataset.copy()\n",
    "    \n",
    "    def decode_test_dataset(self): \n",
    "        # we need to decode the datasets into a normal file, using Python's zipfile module here\n",
    "        dataset = self.__test_dataset__()\n",
    "        __z_bytes__ = base64.b64decode(dataset['zip'])\n",
    "\n",
    "        # create an in-memory stream for bytes data (io.BytesIO()) from decoded base64,\n",
    "        #     then create a zipfile object using the zipfile module to store the bytes\n",
    "        __z__ = zipfile.ZipFile(io.BytesIO(__z_bytes__))\n",
    "\n",
    "        # extract all files in the zip file\n",
    "        __z__.extractall(PATH_OUTPUT)\n",
    "        return\n",
    "        \n",
    "    def find_json(self): \n",
    "        filenames = glob.glob(\"bill_data/*/*/bill/*.json\")\n",
    "        return filenames\n",
    "    \n",
    "    def get_json_filenames(self): \n",
    "        return self.find_json()\n",
    "        \n",
    "    def process_json(self):\n",
    "        for filename in self.find_json(): \n",
    "            with open(filename) as file:\n",
    "                bill_data = {}\n",
    "                # We need to do a little string replacing so the \n",
    "                json_str = file.read().replace('\"0000-00-00\"', 'null')\n",
    "                content = json.loads(json_str)['bill']\n",
    "\n",
    "                bill_data['bill_id'] = content['bill_id']\n",
    "                bill_data['code'] = os.path.splitext(os.path.basename(filename))[0]\n",
    "                bill_data['bill_number'] = content['bill_number']\n",
    "                bill_data['title'] = content['title']\n",
    "                bill_data['description'] = content['description']\n",
    "                bill_data['state'] = content['state']\n",
    "                bill_data['session'] = content['session']['session_name']\n",
    "                bill_data['filename'] = filename\n",
    "                bill_data['status'] = content['status']\n",
    "                bill_data['status_date'] = content['status_date']\n",
    "\n",
    "                try:\n",
    "                    bill_data['url'] = content['texts'][-1]['state_link']\n",
    "                except:\n",
    "                    pass\n",
    "            return pd.Series(bill_data)\n",
    "        \n",
    "        def create_dataframe(self):\n",
    "            filenames = self.get_json()\n",
    "            df = pd.Series(filenames).swifter.apply(self.process_json)\n",
    "            return df\n",
    "        \n",
    "        def get_dataframe(self): \n",
    "            return self.create_dataframe\n",
    "        \n",
    "        def df_to_csv(self): \n",
    "            df.to_csv('PATH_OUTPUT' + '/bills-with-urls.csv', index=False)\n",
    "            return "
   ]
  },
  {
   "cell_type": "code",
   "execution_count": 43,
   "id": "04b0910b-7666-49c9-8077-fa3521158a89",
   "metadata": {},
   "outputs": [],
   "source": [
    "api_key = os.environ.get('LEGISCAN_API_KEY')\n",
    "legis = LegiScan(api_key)"
   ]
  },
  {
   "cell_type": "code",
   "execution_count": 44,
   "id": "d2be7323-ccd3-4a47-8ca4-aa661960989a",
   "metadata": {},
   "outputs": [],
   "source": [
    "datasets = legis.get_dataset_list()\n",
    "dataset = legis.get_dataset(datasets[20]['session_id'], datasets[20]['access_key'])"
   ]
  },
  {
   "cell_type": "code",
   "execution_count": 45,
   "id": "99f5b44d-1a33-41e8-b6c5-cddfc7ada22e",
   "metadata": {},
   "outputs": [],
   "source": [
    "z_bytes = base64.b64decode(dataset['zip'])\n",
    "\n",
    "# create an in-memory stream for bytes data (io.BytesIO()) from decoded base64,\n",
    "#     then create a zipfile object using the zipfile module to store the bytes\n",
    "z = zipfile.ZipFile(io.BytesIO(z_bytes))\n",
    "\n",
    "# extract all files in the zip file\n",
    "z.extractall(\"./sample-data-2\")"
   ]
  },
  {
   "cell_type": "code",
   "execution_count": 46,
   "id": "c9068723-2821-4551-8a1a-205e7f10c687",
   "metadata": {},
   "outputs": [],
   "source": [
    "filenames = glob.glob(\"./sample-data-2/*/*/bill/*\", recursive=True)"
   ]
  },
  {
   "cell_type": "code",
   "execution_count": 48,
   "id": "479a96f6-6c50-41e3-a2c6-b80944b889f7",
   "metadata": {},
   "outputs": [],
   "source": [
    "def process_json(filename):\n",
    "    with open(filename) as file:\n",
    "        bill_data = {}\n",
    "        # We need to do a little string replacing so the \n",
    "        json_str = file.read().replace('\"0000-00-00\"', 'null')\n",
    "        content = json.loads(json_str)['bill']\n",
    "\n",
    "        bill_data['bill_id'] = content['bill_id']\n",
    "        bill_data['code'] = os.path.splitext(os.path.basename(filename))[0]\n",
    "        bill_data['bill_number'] = content['bill_number']\n",
    "        bill_data['title'] = content['title']\n",
    "        bill_data['description'] = content['description']\n",
    "        bill_data['state'] = content['state']\n",
    "        bill_data['session'] = content['session']['session_name']\n",
    "        bill_data['filename'] = filename\n",
    "        bill_data['status'] = content['status']\n",
    "        bill_data['status_date'] = content['status_date']\n",
    "\n",
    "        try:\n",
    "            bill_data['url'] = content['texts'][-1]['state_link']\n",
    "        except:\n",
    "            pass\n",
    "\n",
    "        return pd.Series(bill_data)"
   ]
  },
  {
   "cell_type": "code",
   "execution_count": 49,
   "id": "62c59638-5252-4409-8017-af8af155c6d6",
   "metadata": {},
   "outputs": [
    {
     "data": {
      "application/vnd.jupyter.widget-view+json": {
       "model_id": "bc88764dbdca4ccda9d45156ad4e4a2a",
       "version_major": 2,
       "version_minor": 0
      },
      "text/plain": [
       "Pandas Apply:   0%|          | 0/88 [00:00<?, ?it/s]"
      ]
     },
     "metadata": {},
     "output_type": "display_data"
    }
   ],
   "source": [
    "df = pd.Series(filenames).swifter.apply(process_json)"
   ]
  },
  {
   "cell_type": "code",
   "execution_count": 53,
   "id": "1ecff30d-e76f-4908-a8ec-a55c04c835bf",
   "metadata": {},
   "outputs": [],
   "source": [
    "df.to_csv(\"sample-data-2/bills-with-urls.csv\", index=False)"
   ]
  },
  {
   "cell_type": "code",
   "execution_count": null,
   "id": "ae7836e4-a121-46de-aba4-77383ded5172",
   "metadata": {},
   "outputs": [],
   "source": []
  }
 ],
 "metadata": {
  "kernelspec": {
   "display_name": "Python 3 (ipykernel)",
   "language": "python",
   "name": "python3"
  },
  "language_info": {
   "codemirror_mode": {
    "name": "ipython",
    "version": 3
   },
   "file_extension": ".py",
   "mimetype": "text/x-python",
   "name": "python",
   "nbconvert_exporter": "python",
   "pygments_lexer": "ipython3",
   "version": "3.9.13"
  }
 },
 "nbformat": 4,
 "nbformat_minor": 5
}
