{
 "cells": [
  {
   "cell_type": "code",
   "execution_count": 13,
   "id": "c1aa2c07-a922-468b-9a32-deb2e556f552",
   "metadata": {},
   "outputs": [],
   "source": [
    "from legiscan import LegiScan\n",
    "import legiscan\n",
    "\n",
    "import os\n",
    "import pandas as pd\n",
    "import swifter\n",
    "import zipfile\n",
    "import base64\n",
    "import io\n",
    "import glob\n",
    "import time\n",
    "import json\n",
    "import requests\n",
    "import mimetypes\n",
    "import tqdm \n",
    "\n",
    "# force reload of legiscan if .py file is updated\n",
    "from importlib import reload\n",
    "reload(legiscan);"
   ]
  },
  {
   "cell_type": "code",
   "execution_count": null,
   "id": "7a0748f4-b37a-42a2-ac7e-5c8c1d8b7a7d",
   "metadata": {},
   "outputs": [],
   "source": []
  },
  {
   "cell_type": "code",
   "execution_count": null,
   "id": "16e0b8a8-1237-4367-b409-c9cbdba2b501",
   "metadata": {},
   "outputs": [],
   "source": [
    "# # make sure api key is saved as an environment variable\n",
    "# for key, value in os.environ.items():\n",
    "#     if key == 'LEGISCAN_API_KEY': \n",
    "#         print(f'{key}: {value}')"
   ]
  },
  {
   "cell_type": "markdown",
   "id": "84f3942a-2027-4f50-88e0-4278ad2e1c0f",
   "metadata": {
    "tags": []
   },
   "source": [
    "### using pylegiscan to parse legiscan json -- test sample "
   ]
  },
  {
   "cell_type": "code",
   "execution_count": null,
   "id": "23aea205-3483-4414-ba7b-39578be479a7",
   "metadata": {},
   "outputs": [],
   "source": [
    "# I saved my API key as an environment variable \n",
    "# create an API key here: https://legiscan.com/legiscan\n",
    "\n",
    "api_key = os.environ.get('LEGISCAN_API_KEY')\n",
    "legis = LegiScan(api_key)"
   ]
  },
  {
   "cell_type": "code",
   "execution_count": null,
   "id": "3aa6d78e-3860-43e3-b4b7-a758d5866b3e",
   "metadata": {},
   "outputs": [],
   "source": [
    "# use LegiScan's datasets to get all of the bills for each session\n",
    "# Here, I'm just creating a sample dataset\n",
    "datasets = legis.get_dataset_list()\n",
    "dataset = legis.get_dataset(datasets[20]['session_id'], datasets[20]['access_key'])\n",
    "\n",
    "# DO NOT PRINT THE OUTPUT FOR THE FOLLOWING LINE\n",
    "#   - key 'zip' contains a base64 encoded zip file ( a very very long string that requires conversion ) \n",
    "# dataset['zip']\n",
    "len(dataset['zip'])"
   ]
  },
  {
   "cell_type": "code",
   "execution_count": null,
   "id": "e01b1391-b4de-4d23-b240-62f2f5d5718a",
   "metadata": {},
   "outputs": [],
   "source": [
    "# we need to decode the datasets into a normal file\n",
    "# using Python's zipfile module here\n",
    "z_bytes = base64.b64decode(dataset['zip'])\n",
    "\n",
    "# create an in-memory stream for bytes data (io.BytesIO()) from decoded base64,\n",
    "#     then create a zipfile object using the zipfile module to store the bytes\n",
    "z = zipfile.ZipFile(io.BytesIO(z_bytes))\n",
    "\n",
    "# extract all files in the zip file\n",
    "z.extractall(\"./sample-data\")"
   ]
  },
  {
   "cell_type": "code",
   "execution_count": null,
   "id": "76c37939-eb7a-4648-b28c-9756c1e480d0",
   "metadata": {},
   "outputs": [],
   "source": [
    "import glob # to return all file paths that match a specific pattern\n",
    "\n",
    "filenames = glob.glob(\"./sample-data/*/*/bill/*\", recursive=True)\n",
    "filenames[:2]"
   ]
  },
  {
   "cell_type": "code",
   "execution_count": null,
   "id": "c02b9ad0-34d1-44f3-9003-1eeff6c7f9c2",
   "metadata": {
    "tags": []
   },
   "outputs": [],
   "source": [
    "import json # the bill data is stored in json format, so we need to import json as well to be able to read the files\n",
    "\n",
    "json_data = json.load(open(\"./sample-data/AL/2012-2012_1st_Special_Session/bill/HB1.json\"))\n",
    "#json_data\n",
    "\n",
    "# when we look at the json_data, we can see that the actual bill text (which we need!!) is not in the json files already\n",
    "# after creating a database with the bills, we need to extract the bill text from the urls in the json"
   ]
  },
  {
   "cell_type": "markdown",
   "id": "8c278a70-4ce8-4f07-a25f-6f502a59999c",
   "metadata": {},
   "source": [
    "### download and extract final datasets"
   ]
  },
  {
   "cell_type": "code",
   "execution_count": null,
   "id": "705f6fa0-a415-498a-b843-9cd129856374",
   "metadata": {},
   "outputs": [],
   "source": [
    "# instantiate legis object \n",
    "api_key = os.environ.get('LEGISCAN_API_KEY')\n",
    "legis = LegiScan(api_key)"
   ]
  },
  {
   "cell_type": "code",
   "execution_count": null,
   "id": "1b3dd9f5-eec0-4909-8ff0-6e88a3b5ba31",
   "metadata": {},
   "outputs": [],
   "source": [
    "datasets = legis.get_dataset_list()\n",
    "len(datasets)"
   ]
  },
  {
   "cell_type": "code",
   "execution_count": null,
   "id": "3102aed4-d061-475d-90c5-6a8977b8fb87",
   "metadata": {},
   "outputs": [],
   "source": [
    "# DO NOT RERUN THIS CELL -- the bill data is already saved in a local folder\n",
    "# num_datasets = len(datasets) \n",
    "\n",
    "# for dataset in tqdm.tqdm_notebook(datasets): \n",
    "#     session_id = dataset['session_id'] #  ID corresponds to internal LegiScan legislative session numbering\n",
    "#     access_key = dataset['access_key'] #  required by the legiscan api to access getDatasetList\n",
    "    \n",
    "#     # get all of the details for a particular dataset\n",
    "#     dataset_details = legis.get_dataset(session_id, access_key)\n",
    "    \n",
    "#     # decode the dataset\n",
    "#     zipfile_bytes = base64.b64decode(dataset_details['zip'])\n",
    "#     z = zipfile.ZipFile(io.BytesIO(zipfile_bytes))\n",
    "#     z.extractall(\"./bill_data\")\n",
    "    "
   ]
  },
  {
   "cell_type": "code",
   "execution_count": 16,
   "id": "6a49cdb9-8c7e-42b2-a993-9c866c05acd5",
   "metadata": {},
   "outputs": [
    {
     "data": {
      "text/plain": [
       "1753624"
      ]
     },
     "execution_count": 16,
     "metadata": {},
     "output_type": "execute_result"
    }
   ],
   "source": [
    "filenames = glob.glob(\"bill_data/*/*/bill/*.json\")\n",
    "len(filenames)"
   ]
  },
  {
   "cell_type": "code",
   "execution_count": 11,
   "id": "60e2fe48-02f3-480d-a0cb-713ea4be0429",
   "metadata": {},
   "outputs": [],
   "source": [
    "def process_json(filename):\n",
    "    with open(filename) as file:\n",
    "        bill_data = {}\n",
    "        # We need to do a little string replacing so the \n",
    "        json_str = file.read().replace('\"0000-00-00\"', 'null')\n",
    "        content = json.loads(json_str)['bill']\n",
    "\n",
    "        bill_data['bill_id'] = content['bill_id']\n",
    "        bill_data['code'] = os.path.splitext(os.path.basename(filename))[0]\n",
    "        bill_data['bill_number'] = content['bill_number']\n",
    "        bill_data['title'] = content['title']\n",
    "        bill_data['description'] = content['description']\n",
    "        bill_data['state'] = content['state']\n",
    "        bill_data['session'] = content['session']['session_name']\n",
    "        bill_data['filename'] = filename\n",
    "        bill_data['status'] = content['status']\n",
    "        bill_data['status_date'] = content['status_date']\n",
    "\n",
    "        try:\n",
    "            bill_data['url'] = content['texts'][-1]['state_link']\n",
    "        except:\n",
    "            pass\n",
    "\n",
    "        return pd.Series(bill_data)"
   ]
  },
  {
   "cell_type": "code",
   "execution_count": 12,
   "id": "9d836124-b984-477a-903c-61018f158105",
   "metadata": {},
   "outputs": [
    {
     "data": {
      "application/vnd.jupyter.widget-view+json": {
       "model_id": "ae7d38bc09284b9e91cd777345e1bc5c",
       "version_major": 2,
       "version_minor": 0
      },
      "text/plain": [
       "Pandas Apply:   0%|          | 0/1753624 [00:00<?, ?it/s]"
      ]
     },
     "metadata": {},
     "output_type": "display_data"
    }
   ],
   "source": [
    "df = pd.Series(filenames).swifter.apply(process_json)"
   ]
  },
  {
   "cell_type": "code",
   "execution_count": 14,
   "id": "6fdd67e7-82b0-48bc-806d-e06cbb7ae892",
   "metadata": {},
   "outputs": [
    {
     "data": {
      "text/html": [
       "<div>\n",
       "<style scoped>\n",
       "    .dataframe tbody tr th:only-of-type {\n",
       "        vertical-align: middle;\n",
       "    }\n",
       "\n",
       "    .dataframe tbody tr th {\n",
       "        vertical-align: top;\n",
       "    }\n",
       "\n",
       "    .dataframe thead th {\n",
       "        text-align: right;\n",
       "    }\n",
       "</style>\n",
       "<table border=\"1\" class=\"dataframe\">\n",
       "  <thead>\n",
       "    <tr style=\"text-align: right;\">\n",
       "      <th></th>\n",
       "      <th>bill_id</th>\n",
       "      <th>code</th>\n",
       "      <th>bill_number</th>\n",
       "      <th>title</th>\n",
       "      <th>description</th>\n",
       "      <th>state</th>\n",
       "      <th>session</th>\n",
       "      <th>filename</th>\n",
       "      <th>status</th>\n",
       "      <th>status_date</th>\n",
       "      <th>url</th>\n",
       "    </tr>\n",
       "  </thead>\n",
       "  <tbody>\n",
       "    <tr>\n",
       "      <th>0</th>\n",
       "      <td>132957</td>\n",
       "      <td>HB1</td>\n",
       "      <td>HB1</td>\n",
       "      <td>Amend Amt Of Base Student Allocation</td>\n",
       "      <td>An Act relating to the base student allocation...</td>\n",
       "      <td>AK</td>\n",
       "      <td>26th Legislature</td>\n",
       "      <td>bill_data\\AK\\2009-2010_26th_Legislature\\bill\\H...</td>\n",
       "      <td>1</td>\n",
       "      <td>2009-01-20</td>\n",
       "      <td>https://www.legis.state.ak.us/PDF/26/Bills/HB0...</td>\n",
       "    </tr>\n",
       "    <tr>\n",
       "      <th>1</th>\n",
       "      <td>132966</td>\n",
       "      <td>HB10</td>\n",
       "      <td>HB10</td>\n",
       "      <td>Municipal Tax Exemptions</td>\n",
       "      <td>An Act relating to mandatory exemptions from m...</td>\n",
       "      <td>AK</td>\n",
       "      <td>26th Legislature</td>\n",
       "      <td>bill_data\\AK\\2009-2010_26th_Legislature\\bill\\H...</td>\n",
       "      <td>4</td>\n",
       "      <td>2010-07-09</td>\n",
       "      <td>https://www.legis.state.ak.us/PDF/26/Bills/HB0...</td>\n",
       "    </tr>\n",
       "    <tr>\n",
       "      <th>2</th>\n",
       "      <td>133056</td>\n",
       "      <td>HB100</td>\n",
       "      <td>HB100</td>\n",
       "      <td>Joseph C Williams, Sr., Coastal Trail</td>\n",
       "      <td>An Act relating to the Joseph C. Williams, Sr....</td>\n",
       "      <td>AK</td>\n",
       "      <td>26th Legislature</td>\n",
       "      <td>bill_data\\AK\\2009-2010_26th_Legislature\\bill\\H...</td>\n",
       "      <td>4</td>\n",
       "      <td>2009-04-01</td>\n",
       "      <td>https://www.legis.state.ak.us/PDF/26/Bills/HB0...</td>\n",
       "    </tr>\n",
       "    <tr>\n",
       "      <th>3</th>\n",
       "      <td>133057</td>\n",
       "      <td>HB101</td>\n",
       "      <td>HB101</td>\n",
       "      <td>Exemptions: Life Insurance; Annuities</td>\n",
       "      <td>An Act increasing the value of life insurance ...</td>\n",
       "      <td>AK</td>\n",
       "      <td>26th Legislature</td>\n",
       "      <td>bill_data\\AK\\2009-2010_26th_Legislature\\bill\\H...</td>\n",
       "      <td>4</td>\n",
       "      <td>2010-07-09</td>\n",
       "      <td>https://www.legis.state.ak.us/PDF/26/Bills/HB0...</td>\n",
       "    </tr>\n",
       "    <tr>\n",
       "      <th>4</th>\n",
       "      <td>133058</td>\n",
       "      <td>HB102</td>\n",
       "      <td>HB102</td>\n",
       "      <td>Uniform Commercial Code/liens/contracts</td>\n",
       "      <td>An Act relating to the Uniform Commercial Code...</td>\n",
       "      <td>AK</td>\n",
       "      <td>26th Legislature</td>\n",
       "      <td>bill_data\\AK\\2009-2010_26th_Legislature\\bill\\H...</td>\n",
       "      <td>4</td>\n",
       "      <td>2009-08-05</td>\n",
       "      <td>https://www.legis.state.ak.us/PDF/26/Bills/HB0...</td>\n",
       "    </tr>\n",
       "  </tbody>\n",
       "</table>\n",
       "</div>"
      ],
      "text/plain": [
       "   bill_id   code bill_number                                    title  \\\n",
       "0   132957    HB1         HB1     Amend Amt Of Base Student Allocation   \n",
       "1   132966   HB10        HB10                 Municipal Tax Exemptions   \n",
       "2   133056  HB100       HB100    Joseph C Williams, Sr., Coastal Trail   \n",
       "3   133057  HB101       HB101    Exemptions: Life Insurance; Annuities   \n",
       "4   133058  HB102       HB102  Uniform Commercial Code/liens/contracts   \n",
       "\n",
       "                                         description state           session  \\\n",
       "0  An Act relating to the base student allocation...    AK  26th Legislature   \n",
       "1  An Act relating to mandatory exemptions from m...    AK  26th Legislature   \n",
       "2  An Act relating to the Joseph C. Williams, Sr....    AK  26th Legislature   \n",
       "3  An Act increasing the value of life insurance ...    AK  26th Legislature   \n",
       "4  An Act relating to the Uniform Commercial Code...    AK  26th Legislature   \n",
       "\n",
       "                                            filename  status status_date  \\\n",
       "0  bill_data\\AK\\2009-2010_26th_Legislature\\bill\\H...       1  2009-01-20   \n",
       "1  bill_data\\AK\\2009-2010_26th_Legislature\\bill\\H...       4  2010-07-09   \n",
       "2  bill_data\\AK\\2009-2010_26th_Legislature\\bill\\H...       4  2009-04-01   \n",
       "3  bill_data\\AK\\2009-2010_26th_Legislature\\bill\\H...       4  2010-07-09   \n",
       "4  bill_data\\AK\\2009-2010_26th_Legislature\\bill\\H...       4  2009-08-05   \n",
       "\n",
       "                                                 url  \n",
       "0  https://www.legis.state.ak.us/PDF/26/Bills/HB0...  \n",
       "1  https://www.legis.state.ak.us/PDF/26/Bills/HB0...  \n",
       "2  https://www.legis.state.ak.us/PDF/26/Bills/HB0...  \n",
       "3  https://www.legis.state.ak.us/PDF/26/Bills/HB0...  \n",
       "4  https://www.legis.state.ak.us/PDF/26/Bills/HB0...  "
      ]
     },
     "execution_count": 14,
     "metadata": {},
     "output_type": "execute_result"
    }
   ],
   "source": [
    "df.head()"
   ]
  },
  {
   "cell_type": "code",
   "execution_count": 15,
   "id": "09183f48-6ba9-4057-a145-dd77a67ccaba",
   "metadata": {},
   "outputs": [],
   "source": [
    "df.to_csv(\"data/bills-with-urls.csv\", index=False)"
   ]
  },
  {
   "cell_type": "code",
   "execution_count": null,
   "id": "62f7fb5f-25d5-41a6-9118-4690fc6e196c",
   "metadata": {},
   "outputs": [],
   "source": []
  }
 ],
 "metadata": {
  "kernelspec": {
   "display_name": "Python 3 (ipykernel)",
   "language": "python",
   "name": "python3"
  },
  "language_info": {
   "codemirror_mode": {
    "name": "ipython",
    "version": 3
   },
   "file_extension": ".py",
   "mimetype": "text/x-python",
   "name": "python",
   "nbconvert_exporter": "python",
   "pygments_lexer": "ipython3",
   "version": "3.9.13"
  }
 },
 "nbformat": 4,
 "nbformat_minor": 5
}
