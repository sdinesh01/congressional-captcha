{
 "cells": [
  {
   "cell_type": "code",
   "execution_count": 1,
   "id": "1e026bde-af46-4d38-a00b-634fa430498a",
   "metadata": {},
   "outputs": [
    {
     "ename": "ModuleNotFoundError",
     "evalue": "No module named 'legiscan'",
     "output_type": "error",
     "traceback": [
      "\u001b[1;31m---------------------------------------------------------------------------\u001b[0m",
      "\u001b[1;31mModuleNotFoundError\u001b[0m                       Traceback (most recent call last)",
      "Cell \u001b[1;32mIn[1], line 1\u001b[0m\n\u001b[1;32m----> 1\u001b[0m \u001b[38;5;28;01mfrom\u001b[39;00m \u001b[38;5;21;01mlegiscan\u001b[39;00m \u001b[38;5;28;01mimport\u001b[39;00m LegiScan\n\u001b[0;32m      2\u001b[0m \u001b[38;5;28;01mimport\u001b[39;00m \u001b[38;5;21;01mlegiscan\u001b[39;00m\n\u001b[0;32m      3\u001b[0m \u001b[38;5;28;01mimport\u001b[39;00m \u001b[38;5;21;01mfetch_data\u001b[39;00m\n",
      "\u001b[1;31mModuleNotFoundError\u001b[0m: No module named 'legiscan'"
     ]
    }
   ],
   "source": [
    "from legiscan import LegiScan\n",
    "import legiscan\n",
    "import fetch_data\n",
    "import os\n",
    "import pandas as pd\n",
    "import swifter\n",
    "import zipfile\n",
    "import base64\n",
    "import io\n",
    "import glob\n",
    "import time\n",
    "import json\n",
    "import requests\n",
    "import mimetypes\n",
    "import tqdm \n",
    "from collections import defaultdict\n",
    "\n",
    "from importlib import reload\n",
    "reload(legiscan);\n",
    "reload(fetch_data);"
   ]
  },
  {
   "cell_type": "code",
   "execution_count": null,
   "id": "a8c14609-ab02-497b-9392-fd86b434b512",
   "metadata": {},
   "outputs": [],
   "source": [
    "fd = FetchData()"
   ]
  },
  {
   "cell_type": "code",
   "execution_count": null,
   "id": "421bac42-2bb5-4f25-b58a-06748d490c8b",
   "metadata": {
    "tags": []
   },
   "outputs": [],
   "source": [
    "fd.get_dataframe()"
   ]
  },
  {
   "cell_type": "code",
   "execution_count": null,
   "id": "bd0e9cb8-f933-4c54-8634-de729d97f78c",
   "metadata": {},
   "outputs": [],
   "source": []
  },
  {
   "cell_type": "code",
   "execution_count": null,
   "id": "ac16ed05-2b0c-4906-88e7-5dd832e641f2",
   "metadata": {},
   "outputs": [],
   "source": []
  }
 ],
 "metadata": {
  "kernelspec": {
   "display_name": "Python 3 (ipykernel)",
   "language": "python",
   "name": "python3"
  },
  "language_info": {
   "codemirror_mode": {
    "name": "ipython",
    "version": 3
   },
   "file_extension": ".py",
   "mimetype": "text/x-python",
   "name": "python",
   "nbconvert_exporter": "python",
   "pygments_lexer": "ipython3",
   "version": "3.9.13"
  }
 },
 "nbformat": 4,
 "nbformat_minor": 5
}
