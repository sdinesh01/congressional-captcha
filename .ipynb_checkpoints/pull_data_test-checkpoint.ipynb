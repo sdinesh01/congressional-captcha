{
 "cells": [
  {
   "cell_type": "code",
   "execution_count": 1,
   "id": "4cd05372-8205-43c1-b193-2e09768fa21a",
   "metadata": {
    "collapsed": true,
    "jupyter": {
     "outputs_hidden": true
    },
    "tags": []
   },
   "outputs": [
    {
     "name": "stdout",
     "output_type": "stream",
     "text": [
      "^C\n",
      "Requirement already satisfied: pandas in c:\\users\\shrad\\appdata\\roaming\\python\\python311\\site-packages (2.1.1)\n",
      "Requirement already satisfied: numpy>=1.23.2 in c:\\python311\\lib\\site-packages (from pandas) (1.26.1)\n",
      "Requirement already satisfied: python-dateutil>=2.8.2 in c:\\users\\shrad\\appdata\\roaming\\python\\python311\\site-packages (from pandas) (2.8.2)\n",
      "Requirement already satisfied: pytz>=2020.1 in c:\\python311\\lib\\site-packages (from pandas) (2023.3.post1)\n",
      "Requirement already satisfied: tzdata>=2022.1 in c:\\python311\\lib\\site-packages (from pandas) (2023.3)\n",
      "Requirement already satisfied: six>=1.5 in c:\\python311\\lib\\site-packages (from python-dateutil>=2.8.2->pandas) (1.16.0)\n",
      "Requirement already satisfied: swifter in c:\\users\\shrad\\appdata\\roaming\\python\\python311\\site-packages (1.4.0)\n",
      "Requirement already satisfied: pandas>=1.0.0 in c:\\users\\shrad\\appdata\\roaming\\python\\python311\\site-packages (from swifter) (2.1.1)\n",
      "Requirement already satisfied: psutil>=5.6.6 in c:\\python311\\lib\\site-packages (from swifter) (5.9.6)\n",
      "Requirement already satisfied: dask>=2.10.0 in c:\\users\\shrad\\appdata\\roaming\\python\\python311\\site-packages (from dask[dataframe]>=2.10.0->swifter) (2023.10.0)\n",
      "Requirement already satisfied: tqdm>=4.33.0 in c:\\users\\shrad\\appdata\\roaming\\python\\python311\\site-packages (from swifter) (4.66.1)\n",
      "Requirement already satisfied: click>=8.0 in c:\\users\\shrad\\appdata\\roaming\\python\\python311\\site-packages (from dask>=2.10.0->dask[dataframe]>=2.10.0->swifter) (8.1.7)\n",
      "Requirement already satisfied: cloudpickle>=1.5.0 in c:\\users\\shrad\\appdata\\roaming\\python\\python311\\site-packages (from dask>=2.10.0->dask[dataframe]>=2.10.0->swifter) (3.0.0)\n",
      "Requirement already satisfied: fsspec>=2021.09.0 in c:\\users\\shrad\\appdata\\roaming\\python\\python311\\site-packages (from dask>=2.10.0->dask[dataframe]>=2.10.0->swifter) (2023.10.0)\n",
      "Requirement already satisfied: packaging>=20.0 in c:\\python311\\lib\\site-packages (from dask>=2.10.0->dask[dataframe]>=2.10.0->swifter) (23.2)\n",
      "Requirement already satisfied: partd>=1.2.0 in c:\\users\\shrad\\appdata\\roaming\\python\\python311\\site-packages (from dask>=2.10.0->dask[dataframe]>=2.10.0->swifter) (1.4.1)\n",
      "Requirement already satisfied: pyyaml>=5.3.1 in c:\\python311\\lib\\site-packages (from dask>=2.10.0->dask[dataframe]>=2.10.0->swifter) (6.0.1)\n",
      "Requirement already satisfied: toolz>=0.10.0 in c:\\python311\\lib\\site-packages (from dask>=2.10.0->dask[dataframe]>=2.10.0->swifter) (0.12.0)\n",
      "Requirement already satisfied: importlib-metadata>=4.13.0 in c:\\users\\shrad\\appdata\\roaming\\python\\python311\\site-packages (from dask>=2.10.0->dask[dataframe]>=2.10.0->swifter) (6.8.0)\n",
      "Requirement already satisfied: numpy>=1.23.2 in c:\\python311\\lib\\site-packages (from pandas>=1.0.0->swifter) (1.26.1)\n",
      "Requirement already satisfied: python-dateutil>=2.8.2 in c:\\users\\shrad\\appdata\\roaming\\python\\python311\\site-packages (from pandas>=1.0.0->swifter) (2.8.2)\n",
      "Requirement already satisfied: pytz>=2020.1 in c:\\python311\\lib\\site-packages (from pandas>=1.0.0->swifter) (2023.3.post1)\n",
      "Requirement already satisfied: tzdata>=2022.1 in c:\\python311\\lib\\site-packages (from pandas>=1.0.0->swifter) (2023.3)\n",
      "Requirement already satisfied: colorama in c:\\users\\shrad\\appdata\\roaming\\python\\python311\\site-packages (from tqdm>=4.33.0->swifter) (0.4.6)\n",
      "Requirement already satisfied: zipp>=0.5 in c:\\python311\\lib\\site-packages (from importlib-metadata>=4.13.0->dask>=2.10.0->dask[dataframe]>=2.10.0->swifter) (3.17.0)\n",
      "Requirement already satisfied: locket in c:\\users\\shrad\\appdata\\roaming\\python\\python311\\site-packages (from partd>=1.2.0->dask>=2.10.0->dask[dataframe]>=2.10.0->swifter) (1.0.0)\n",
      "Requirement already satisfied: six>=1.5 in c:\\python311\\lib\\site-packages (from python-dateutil>=2.8.2->pandas>=1.0.0->swifter) (1.16.0)\n"
     ]
    }
   ],
   "source": [
    "!pip install -U pandas\n",
    "!pip install swifter "
   ]
  },
  {
   "cell_type": "code",
   "execution_count": 2,
   "id": "68c9f204-0bff-4bf5-a860-c9f10d0eda26",
   "metadata": {},
   "outputs": [
    {
     "name": "stdout",
     "output_type": "stream",
     "text": [
      "swifter is not installed\n"
     ]
    }
   ],
   "source": [
    "import importlib.util\n",
    "\n",
    "# For illustrative purposes.\n",
    "package_name = 'swifter'\n",
    "\n",
    "spec = importlib.util.find_spec(package_name)\n",
    "if spec is None:\n",
    "    print(package_name +\" is not installed\")"
   ]
  },
  {
   "cell_type": "code",
   "execution_count": null,
   "id": "423330e3-3e0b-4367-b5d9-306b2c8a3688",
   "metadata": {
    "tags": []
   },
   "outputs": [],
   "source": [
    "!pip list -v"
   ]
  },
  {
   "cell_type": "code",
   "execution_count": 3,
   "id": "64f83c32-0e81-42d3-bffc-9c8c7c228ed3",
   "metadata": {},
   "outputs": [
    {
     "name": "stdout",
     "output_type": "stream",
     "text": [
      "C:\\Users\\shrad\\anaconda3\\Lib\\site-packages\n"
     ]
    }
   ],
   "source": [
    "import sysconfig; print(sysconfig.get_paths()[\"purelib\"])"
   ]
  },
  {
   "cell_type": "code",
   "execution_count": 4,
   "id": "c1aa2c07-a922-468b-9a32-deb2e556f552",
   "metadata": {},
   "outputs": [
    {
     "ename": "ModuleNotFoundError",
     "evalue": "No module named 'swifter'",
     "output_type": "error",
     "traceback": [
      "\u001b[1;31m---------------------------------------------------------------------------\u001b[0m",
      "\u001b[1;31mModuleNotFoundError\u001b[0m                       Traceback (most recent call last)",
      "Cell \u001b[1;32mIn[4], line 6\u001b[0m\n\u001b[0;32m      4\u001b[0m \u001b[38;5;28;01mimport\u001b[39;00m \u001b[38;5;21;01mos\u001b[39;00m\n\u001b[0;32m      5\u001b[0m \u001b[38;5;28;01mimport\u001b[39;00m \u001b[38;5;21;01mpandas\u001b[39;00m \u001b[38;5;28;01mas\u001b[39;00m \u001b[38;5;21;01mpd\u001b[39;00m\n\u001b[1;32m----> 6\u001b[0m \u001b[38;5;28;01mimport\u001b[39;00m \u001b[38;5;21;01mswifter\u001b[39;00m\n\u001b[0;32m      7\u001b[0m \u001b[38;5;28;01mimport\u001b[39;00m \u001b[38;5;21;01mzipfile\u001b[39;00m\n\u001b[0;32m      8\u001b[0m \u001b[38;5;28;01mimport\u001b[39;00m \u001b[38;5;21;01mbase64\u001b[39;00m\n",
      "\u001b[1;31mModuleNotFoundError\u001b[0m: No module named 'swifter'"
     ]
    }
   ],
   "source": [
    "from legiscan import LegiScan\n",
    "import legiscan\n",
    "\n",
    "import os\n",
    "import pandas as pd\n",
    "import swifter\n",
    "import zipfile\n",
    "import base64\n",
    "import io\n",
    "import glob\n",
    "import time\n",
    "import json\n",
    "import requests\n",
    "import mimetypes\n",
    "import tqdm \n",
    "\n",
    "# force reload of legiscan if .py file is updated\n",
    "from importlib import reload\n",
    "reload(legiscan);"
   ]
  },
  {
   "cell_type": "code",
   "execution_count": null,
   "id": "7a0748f4-b37a-42a2-ac7e-5c8c1d8b7a7d",
   "metadata": {},
   "outputs": [],
   "source": []
  },
  {
   "cell_type": "code",
   "execution_count": null,
   "id": "16e0b8a8-1237-4367-b409-c9cbdba2b501",
   "metadata": {},
   "outputs": [],
   "source": [
    "# # make sure api key is saved as an environment variable\n",
    "# for key, value in os.environ.items():\n",
    "#     if key == 'LEGISCAN_API_KEY': \n",
    "#         print(f'{key}: {value}')"
   ]
  },
  {
   "cell_type": "markdown",
   "id": "84f3942a-2027-4f50-88e0-4278ad2e1c0f",
   "metadata": {
    "tags": []
   },
   "source": [
    "### using pylegiscan to parse legiscan json -- test sample "
   ]
  },
  {
   "cell_type": "code",
   "execution_count": null,
   "id": "23aea205-3483-4414-ba7b-39578be479a7",
   "metadata": {},
   "outputs": [],
   "source": [
    "# I saved my API key as an environment variable \n",
    "# create an API key here: https://legiscan.com/legiscan\n",
    "\n",
    "api_key = os.environ.get('LEGISCAN_API_KEY')\n",
    "legis = LegiScan(api_key)"
   ]
  },
  {
   "cell_type": "code",
   "execution_count": null,
   "id": "3aa6d78e-3860-43e3-b4b7-a758d5866b3e",
   "metadata": {},
   "outputs": [],
   "source": [
    "# use LegiScan's datasets to get all of the bills for each session\n",
    "# Here, I'm just creating a sample dataset\n",
    "datasets = legis.get_dataset_list()\n",
    "dataset = legis.get_dataset(datasets[20]['session_id'], datasets[20]['access_key'])\n",
    "\n",
    "# DO NOT PRINT THE OUTPUT FOR THE FOLLOWING LINE\n",
    "#   - key 'zip' contains a base64 encoded zip file ( a very very long string that requires conversion ) \n",
    "# dataset['zip']\n",
    "len(dataset['zip'])"
   ]
  },
  {
   "cell_type": "code",
   "execution_count": null,
   "id": "e01b1391-b4de-4d23-b240-62f2f5d5718a",
   "metadata": {},
   "outputs": [],
   "source": [
    "# we need to decode the datasets into a normal file\n",
    "# using Python's zipfile module here\n",
    "z_bytes = base64.b64decode(dataset['zip'])\n",
    "\n",
    "# create an in-memory stream for bytes data (io.BytesIO()) from decoded base64,\n",
    "#     then create a zipfile object using the zipfile module to store the bytes\n",
    "z = zipfile.ZipFile(io.BytesIO(z_bytes))\n",
    "\n",
    "# extract all files in the zip file\n",
    "z.extractall(\"./sample-data\")"
   ]
  },
  {
   "cell_type": "code",
   "execution_count": null,
   "id": "76c37939-eb7a-4648-b28c-9756c1e480d0",
   "metadata": {},
   "outputs": [],
   "source": [
    "import glob # to return all file paths that match a specific pattern\n",
    "\n",
    "filenames = glob.glob(\"./sample-data/*/*/bill/*\", recursive=True)\n",
    "filenames[:2]"
   ]
  },
  {
   "cell_type": "code",
   "execution_count": null,
   "id": "c02b9ad0-34d1-44f3-9003-1eeff6c7f9c2",
   "metadata": {
    "tags": []
   },
   "outputs": [],
   "source": [
    "import json # the bill data is stored in json format, so we need to import json as well to be able to read the files\n",
    "\n",
    "json_data = json.load(open(\"./sample-data/AL/2012-2012_1st_Special_Session/bill/HB1.json\"))\n",
    "#json_data\n",
    "\n",
    "# when we look at the json_data, we can see that the actual bill text (which we need!!) is not in the json files already\n",
    "# after creating a database with the bills, we need to extract the bill text from the urls in the json"
   ]
  },
  {
   "cell_type": "markdown",
   "id": "8c278a70-4ce8-4f07-a25f-6f502a59999c",
   "metadata": {},
   "source": [
    "### download and extract final datasets"
   ]
  },
  {
   "cell_type": "code",
   "execution_count": null,
   "id": "705f6fa0-a415-498a-b843-9cd129856374",
   "metadata": {},
   "outputs": [],
   "source": [
    "# instantiate legis object \n",
    "api_key = os.environ.get('LEGISCAN_API_KEY')\n",
    "legis = LegiScan(api_key)"
   ]
  },
  {
   "cell_type": "code",
   "execution_count": null,
   "id": "1b3dd9f5-eec0-4909-8ff0-6e88a3b5ba31",
   "metadata": {},
   "outputs": [],
   "source": [
    "datasets = legis.get_dataset_list()\n",
    "len(datasets)"
   ]
  },
  {
   "cell_type": "code",
   "execution_count": null,
   "id": "3102aed4-d061-475d-90c5-6a8977b8fb87",
   "metadata": {},
   "outputs": [],
   "source": [
    "# DO NOT RERUN THIS CELL -- the bill data is already saved in a local folder\n",
    "# num_datasets = len(datasets) \n",
    "\n",
    "# for dataset in tqdm.tqdm_notebook(datasets): \n",
    "#     session_id = dataset['session_id'] #  ID corresponds to internal LegiScan legislative session numbering\n",
    "#     access_key = dataset['access_key'] #  required by the legiscan api to access getDatasetList\n",
    "    \n",
    "#     # get all of the details for a particular dataset\n",
    "#     dataset_details = legis.get_dataset(session_id, access_key)\n",
    "    \n",
    "#     # decode the dataset\n",
    "#     zipfile_bytes = base64.b64decode(dataset_details['zip'])\n",
    "#     z = zipfile.ZipFile(io.BytesIO(zipfile_bytes))\n",
    "#     z.extractall(\"./bill_data\")\n",
    "    "
   ]
  },
  {
   "cell_type": "code",
   "execution_count": null,
   "id": "6a49cdb9-8c7e-42b2-a993-9c866c05acd5",
   "metadata": {},
   "outputs": [],
   "source": [
    "filenames = glob.glob(\"bill_data/*/*/bill/*.json\")\n",
    "len(filenames)"
   ]
  },
  {
   "cell_type": "code",
   "execution_count": null,
   "id": "60e2fe48-02f3-480d-a0cb-713ea4be0429",
   "metadata": {},
   "outputs": [],
   "source": [
    "def process_json(filename):\n",
    "    with open(filename) as file:\n",
    "        bill_data = {}\n",
    "        # We need to do a little string replacing so the \n",
    "        json_str = file.read().replace('\"0000-00-00\"', 'null')\n",
    "        content = json.loads(json_str)['bill']\n",
    "\n",
    "        bill_data['bill_id'] = content['bill_id']\n",
    "        bill_data['code'] = os.path.splitext(os.path.basename(filename))[0]\n",
    "        bill_data['bill_number'] = content['bill_number']\n",
    "        bill_data['title'] = content['title']\n",
    "        bill_data['description'] = content['description']\n",
    "        bill_data['state'] = content['state']\n",
    "        bill_data['session'] = content['session']['session_name']\n",
    "        bill_data['filename'] = filename\n",
    "        bill_data['status'] = content['status']\n",
    "        bill_data['status_date'] = content['status_date']\n",
    "\n",
    "        try:\n",
    "            bill_data['url'] = content['texts'][-1]['state_link']\n",
    "        except:\n",
    "            pass\n",
    "\n",
    "        return pd.Series(bill_data)"
   ]
  },
  {
   "cell_type": "code",
   "execution_count": null,
   "id": "9d836124-b984-477a-903c-61018f158105",
   "metadata": {},
   "outputs": [],
   "source": [
    "from tqdm.notebook import tqdm\n",
    "tqdm.pandas()\n",
    "\n",
    "df = pd.Series(filenames).progress_apply(process_json)\n",
    "df.head()"
   ]
  },
  {
   "cell_type": "code",
   "execution_count": null,
   "id": "6fdd67e7-82b0-48bc-806d-e06cbb7ae892",
   "metadata": {},
   "outputs": [],
   "source": []
  }
 ],
 "metadata": {
  "kernelspec": {
   "display_name": "Python 3 (ipykernel)",
   "language": "python",
   "name": "python3"
  },
  "language_info": {
   "codemirror_mode": {
    "name": "ipython",
    "version": 3
   },
   "file_extension": ".py",
   "mimetype": "text/x-python",
   "name": "python",
   "nbconvert_exporter": "python",
   "pygments_lexer": "ipython3",
   "version": "3.9.13"
  }
 },
 "nbformat": 4,
 "nbformat_minor": 5
}
